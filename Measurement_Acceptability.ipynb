{
  "nbformat": 4,
  "nbformat_minor": 0,
  "metadata": {
    "colab": {
      "provenance": [],
      "authorship_tag": "ABX9TyP6KhW53BGMAhp3mgesw8e7",
      "include_colab_link": true
    },
    "kernelspec": {
      "name": "python3",
      "display_name": "Python 3"
    },
    "language_info": {
      "name": "python"
    }
  },
  "cells": [
    {
      "cell_type": "markdown",
      "metadata": {
        "id": "view-in-github",
        "colab_type": "text"
      },
      "source": [
        "<a href=\"https://colab.research.google.com/github/trolfe13/Guilford_PH231/blob/main/Measurement_Acceptability.ipynb\" target=\"_parent\"><img src=\"https://colab.research.google.com/assets/colab-badge.svg\" alt=\"Open In Colab\"/></a>"
      ]
    },
    {
      "cell_type": "markdown",
      "source": [
        "# Acceptability of a Measured Value\n",
        "\n",
        "An important question that we must answer as scientists is: how confident are we in our answer? It is a difficult question to answer since it is somewhat arbitrary and depends on how a person defines confidence.\n",
        "\n"
      ],
      "metadata": {
        "id": "TQwYpbc-GMCe"
      }
    },
    {
      "cell_type": "markdown",
      "source": [
        "## Mean and Standard Deviation\n",
        "\n",
        "After $N$ measurements of a normally distributed quantity $x$:\n",
        "$$\n",
        "x_1, x_2, ... , x_n\n",
        "$$\n",
        "\n",
        "the best estimate for the true value $X$ is the mean of our measurements:\n",
        "\n",
        "$$\n",
        "({best \\space estimate \\space for \\space} X) = \\bar{x} = \\frac{\\sum x_i}{N}\n",
        "$$\n",
        "\n",
        "The best estimate for the width $\\sigma$ is the standard deviation of the measurements:\n",
        "\n",
        "$$\n",
        "(best \\space estimate \\space for \\space \\sigma) = \\sigma_x = \\sqrt{\\frac{\\sum(x_i - \\bar{x})^2}{N-1}}\n",
        "$$\n",
        "\n",
        "The uncertainty in $\\bar{x}$ as an estimate of $X$ is:\n",
        "\n",
        "$$\n",
        "(uncertainty \\space in \\space \\bar{x}) = \\frac{\\sigma_x}{\\sqrt{N}}\n",
        "$$\n",
        "\n",
        "While the uncertainty in $\\sigma_x$ as the estimate of the true width $\\sigma$ is given by:\n",
        "\n",
        "$$\n",
        "(fractional \\space uncertainty \\space in \\space \\sigma_x) = \\frac{1}{\\sqrt{2(N-1)}}\n",
        "$$"
      ],
      "metadata": {
        "id": "GuStGBVNILLv"
      }
    },
    {
      "cell_type": "markdown",
      "source": [
        "## Acceptability of the Measured Answer\n",
        "\n",
        "Let's say we measure a quantity $x$ in the standard form:\n",
        "$$\n",
        "(value \\space of \\space x) = x_{best} \\space \\pm \\space \\sigma\n",
        "$$\n",
        "where $\\sigma$ is the appropriate standard deviation.\n",
        "\n",
        "Let's also say that there exists an expected value to compare against, $x_{exp}$.\n",
        "\n",
        "Then, we can say that $x_{best}$ differs from $x_{exp}$ by $t$ standard deviations:\n",
        "$$\n",
        "t = \\frac{|{x_{best}-x_{exp}}|}{\\sigma}\n",
        "$$\n",
        "\n",
        "Assuming that $x$ is normally distributed about $x_{exp}$ with width $\\sigma$, we can find the probability of a discrepancy as large as ours or larger by referencing [error function tables](https://en.wikipedia.org/wiki/Error_function)."
      ],
      "metadata": {
        "id": "i-PLX1nDN8Ub"
      }
    },
    {
      "cell_type": "code",
      "execution_count": 1,
      "metadata": {
        "id": "fqmRX4g9GLTG"
      },
      "outputs": [],
      "source": [
        "import numpy as np\n",
        "import pandas as pd\n",
        "import scipy.stats as ss\n",
        "import matplotlib.pyplot as plt"
      ]
    },
    {
      "cell_type": "markdown",
      "source": [
        "## Practice Problem\n",
        "\n",
        "The data file \"DropTimes.csv\" contains 40 measurements (10 sets of 4) of the time (in hundredths of a second) it takes for a stone to fall from a ledge to the ground.\n",
        "\n",
        "A) Compute the mean, $\\bar{x_t}$, and standard deviation, $\\sigma_t$, for all 40 measurements.\n",
        "\n",
        "B) Find the means of the 10 sets of experiments $\\bar{t_1},...,\\bar{t_{10}}$.\n",
        "\n",
        "C) From your result in part A), what would you expect the standard deviation of the 10 averages to be? What is it actually?\n",
        "\n",
        "D) Make histogram plots for the 40 individual measurements and for the 10 averages. Use the same scale and bin sizes for both plots. Add a normal distribution curve to the histogram plots.\n",
        "\n",
        "E) Use $\\bar{x_t}$ and $\\sigma_t$ to calculate the height the stone fell from. If the measured height of the window is 2.8 meters, is our calculated height a reasonable value?   \n"
      ],
      "metadata": {
        "id": "wETMTXR0ReGr"
      }
    },
    {
      "cell_type": "code",
      "source": [
        "# import data as a dataframe using pandas\n",
        "# data is in github repository\n",
        "url = 'https://raw.githubusercontent.com/trolfe13/Guilford_PH231/main/DropTimes.csv'\n",
        "df = pd.read_csv(url)\n",
        "df"
      ],
      "metadata": {
        "id": "IubqHogRSrT4"
      },
      "execution_count": null,
      "outputs": []
    }
  ]
}